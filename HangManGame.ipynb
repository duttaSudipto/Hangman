{
 "cells": [
  {
   "cell_type": "code",
   "execution_count": 13,
   "id": "0b1010c9",
   "metadata": {},
   "outputs": [
    {
     "name": "stdout",
     "output_type": "stream",
     "text": [
      "['python\\n', 'vizag\\n', 'bangalore\\n', 'kolkata\\n', 'jamshedpur\\n', 'hyderbad\\n', 'guntur\\n', 'mumbai\\n', 'chennai']\n",
      "You are left with 13 turns\n",
      "\n",
      "Guess A Character : y\n",
      "*********You are left with 12 turns\n",
      "\n",
      "Guess A Character : o\n",
      "******o**You are left with 11 turns\n",
      "\n",
      "Guess A Character : k\n",
      "******o**You are left with 10 turns\n",
      "\n",
      "Guess A Character : a\n",
      "*a**a*o**You are left with 9 turns\n",
      "\n",
      "Guess A Character : b\n",
      "ba**a*o**You are left with 8 turns\n",
      "\n",
      "Guess A Character : n\n",
      "ban*a*o**You are left with 7 turns\n",
      "\n",
      "Guess A Character : g\n",
      "banga*o**You are left with 6 turns\n",
      "\n",
      "Guess A Character : l\n",
      "bangalo**You are left with 5 turns\n",
      "\n",
      "Guess A Character : e\n",
      "bangalo*eYou are left with 4 turns\n",
      "\n",
      "Guess A Character : r\n",
      "bangaloreYou won..\n"
     ]
    }
   ],
   "source": [
    "from random import choice\n",
    "\n",
    "def wordGenerator():\n",
    "    with open(\"HangMa.txt\",\"r\") as f:\n",
    "        lines = f.readlines()\n",
    "        #print(lines)\n",
    "    f.close()\n",
    "    lines = [i.strip(\"\\n\") for i in lines]\n",
    "    return choice(lines)\n",
    "\n",
    "word = wordGenerator()\n",
    "guessed =\"\"\n",
    "turns = int(len(word)*1.5)\n",
    "while(True):\n",
    "    print(\"You are left with {} turns\".format(turns))\n",
    "    inp = input(\"\\nGuess A Character : \")\n",
    "    turns = turns - 1\n",
    "\n",
    "    if inp in word:\n",
    "        guessed = guessed + inp\n",
    "    unguessedChar = 0\n",
    "    for i in word:\n",
    "        if i in guessed:\n",
    "            print(i,end=\"\")\n",
    "        else:\n",
    "            unguessedChar +=1\n",
    "            print(\"*\",end=\"\")\n",
    "    if unguessedChar == 0:\n",
    "        print(\"You won..\")\n",
    "        break\n",
    "    if turns==0:\n",
    "        print(\"\\nYour ran out attempts\")\n",
    "        break"
   ]
  },
  {
   "cell_type": "code",
   "execution_count": 10,
   "id": "c2ee6953",
   "metadata": {},
   "outputs": [],
   "source": []
  },
  {
   "cell_type": "code",
   "execution_count": null,
   "id": "97b52bb4",
   "metadata": {},
   "outputs": [],
   "source": []
  }
 ],
 "metadata": {
  "kernelspec": {
   "display_name": "Python 3 (ipykernel)",
   "language": "python",
   "name": "python3"
  },
  "language_info": {
   "codemirror_mode": {
    "name": "ipython",
    "version": 3
   },
   "file_extension": ".py",
   "mimetype": "text/x-python",
   "name": "python",
   "nbconvert_exporter": "python",
   "pygments_lexer": "ipython3",
   "version": "3.9.4"
  }
 },
 "nbformat": 4,
 "nbformat_minor": 5
}
